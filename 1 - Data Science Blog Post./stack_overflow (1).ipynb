{
  "nbformat": 4,
  "nbformat_minor": 0,
  "metadata": {
    "colab": {
      "name": "stack overflow.ipynb",
      "provenance": [],
      "collapsed_sections": []
    },
    "kernelspec": {
      "name": "python3",
      "display_name": "Python 3"
    }
  },
  "cells": [
    {
      "cell_type": "markdown",
      "metadata": {
        "id": "dEHpIeXWVk2s",
        "colab_type": "text"
      },
      "source": [
        "#Introduction \n"
      ]
    },
    {
      "cell_type": "markdown",
      "metadata": {
        "id": "zzZsSdymVovH",
        "colab_type": "text"
      },
      "source": [
        "In this project, I am using Stack Overflow Survey Data 2019. There are three questions we are going to answer. Explanation and visualization will be presented in order to answer each question. \n",
        "\n",
        "Because the data openly accessible , I am not putting it on this repository but you can download it from [here](https://drive.google.com/file/d/1QOmVDpd8hcVYqqUXDXf68UMDWQZP0wQV/view)"
      ]
    },
    {
      "cell_type": "markdown",
      "metadata": {
        "id": "6pkrJRURWOOb",
        "colab_type": "text"
      },
      "source": [
        "#Purpose of this Project"
      ]
    },
    {
      "cell_type": "markdown",
      "metadata": {
        "id": "8ffnm38RWYRK",
        "colab_type": "text"
      },
      "source": [
        "This projects aims to answer the following 3 questions\n",
        "\n",
        "\n",
        "1.   What is the most popular language to Work in Bangladesh ?\n",
        "2.   In what language developers want to work next?\n",
        "3.   What is the job satisfaction level in Bangladesh and do developers contribute to open source have higher salary than those who are not?\n",
        "\n"
      ]
    },
    {
      "cell_type": "markdown",
      "metadata": {
        "id": "VTV-BbB3fS4W",
        "colab_type": "text"
      },
      "source": [
        "##Importing libraries"
      ]
    },
    {
      "cell_type": "code",
      "metadata": {
        "id": "lEKwmckAepa6",
        "colab_type": "code",
        "colab": {
          "base_uri": "https://localhost:8080/",
          "height": 70
        },
        "outputId": "6ffb239c-921b-43c3-a859-7633e16c09c0"
      },
      "source": [
        "import pandas as pd\n",
        "import numpy as np\n",
        "import seaborn as sns \n",
        "import matplotlib.pyplot as plt\n",
        "\n",
        "import warnings\n",
        "warnings.filterwarnings ('ignore')"
      ],
      "execution_count": 1,
      "outputs": [
        {
          "output_type": "stream",
          "text": [
            "/usr/local/lib/python3.6/dist-packages/statsmodels/tools/_testing.py:19: FutureWarning: pandas.util.testing is deprecated. Use the functions in the public API at pandas.testing instead.\n",
            "  import pandas.util.testing as tm\n"
          ],
          "name": "stderr"
        }
      ]
    },
    {
      "cell_type": "code",
      "metadata": {
        "id": "nny-JAzHfucs",
        "colab_type": "code",
        "colab": {}
      },
      "source": [
        "data = pd.read_csv('/content/drive/My Drive/Colab Notebooks/Data/survey_results_public.csv')"
      ],
      "execution_count": 0,
      "outputs": []
    },
    {
      "cell_type": "code",
      "metadata": {
        "id": "NoS9ZcJrf1Sm",
        "colab_type": "code",
        "outputId": "da53a931-14c8-4afc-9bc1-77fbc52df412",
        "colab": {
          "base_uri": "https://localhost:8080/",
          "height": 765
        }
      },
      "source": [
        "data.head()"
      ],
      "execution_count": 3,
      "outputs": [
        {
          "output_type": "execute_result",
          "data": {
            "text/html": [
              "<div>\n",
              "<style scoped>\n",
              "    .dataframe tbody tr th:only-of-type {\n",
              "        vertical-align: middle;\n",
              "    }\n",
              "\n",
              "    .dataframe tbody tr th {\n",
              "        vertical-align: top;\n",
              "    }\n",
              "\n",
              "    .dataframe thead th {\n",
              "        text-align: right;\n",
              "    }\n",
              "</style>\n",
              "<table border=\"1\" class=\"dataframe\">\n",
              "  <thead>\n",
              "    <tr style=\"text-align: right;\">\n",
              "      <th></th>\n",
              "      <th>Respondent</th>\n",
              "      <th>MainBranch</th>\n",
              "      <th>Hobbyist</th>\n",
              "      <th>OpenSourcer</th>\n",
              "      <th>OpenSource</th>\n",
              "      <th>Employment</th>\n",
              "      <th>Country</th>\n",
              "      <th>Student</th>\n",
              "      <th>EdLevel</th>\n",
              "      <th>UndergradMajor</th>\n",
              "      <th>EduOther</th>\n",
              "      <th>OrgSize</th>\n",
              "      <th>DevType</th>\n",
              "      <th>YearsCode</th>\n",
              "      <th>Age1stCode</th>\n",
              "      <th>YearsCodePro</th>\n",
              "      <th>CareerSat</th>\n",
              "      <th>JobSat</th>\n",
              "      <th>MgrIdiot</th>\n",
              "      <th>MgrMoney</th>\n",
              "      <th>MgrWant</th>\n",
              "      <th>JobSeek</th>\n",
              "      <th>LastHireDate</th>\n",
              "      <th>LastInt</th>\n",
              "      <th>FizzBuzz</th>\n",
              "      <th>JobFactors</th>\n",
              "      <th>ResumeUpdate</th>\n",
              "      <th>CurrencySymbol</th>\n",
              "      <th>CurrencyDesc</th>\n",
              "      <th>CompTotal</th>\n",
              "      <th>CompFreq</th>\n",
              "      <th>ConvertedComp</th>\n",
              "      <th>WorkWeekHrs</th>\n",
              "      <th>WorkPlan</th>\n",
              "      <th>WorkChallenge</th>\n",
              "      <th>WorkRemote</th>\n",
              "      <th>WorkLoc</th>\n",
              "      <th>ImpSyn</th>\n",
              "      <th>CodeRev</th>\n",
              "      <th>CodeRevHrs</th>\n",
              "      <th>...</th>\n",
              "      <th>DatabaseWorkedWith</th>\n",
              "      <th>DatabaseDesireNextYear</th>\n",
              "      <th>PlatformWorkedWith</th>\n",
              "      <th>PlatformDesireNextYear</th>\n",
              "      <th>WebFrameWorkedWith</th>\n",
              "      <th>WebFrameDesireNextYear</th>\n",
              "      <th>MiscTechWorkedWith</th>\n",
              "      <th>MiscTechDesireNextYear</th>\n",
              "      <th>DevEnviron</th>\n",
              "      <th>OpSys</th>\n",
              "      <th>Containers</th>\n",
              "      <th>BlockchainOrg</th>\n",
              "      <th>BlockchainIs</th>\n",
              "      <th>BetterLife</th>\n",
              "      <th>ITperson</th>\n",
              "      <th>OffOn</th>\n",
              "      <th>SocialMedia</th>\n",
              "      <th>Extraversion</th>\n",
              "      <th>ScreenName</th>\n",
              "      <th>SOVisit1st</th>\n",
              "      <th>SOVisitFreq</th>\n",
              "      <th>SOVisitTo</th>\n",
              "      <th>SOFindAnswer</th>\n",
              "      <th>SOTimeSaved</th>\n",
              "      <th>SOHowMuchTime</th>\n",
              "      <th>SOAccount</th>\n",
              "      <th>SOPartFreq</th>\n",
              "      <th>SOJobs</th>\n",
              "      <th>EntTeams</th>\n",
              "      <th>SOComm</th>\n",
              "      <th>WelcomeChange</th>\n",
              "      <th>SONewContent</th>\n",
              "      <th>Age</th>\n",
              "      <th>Gender</th>\n",
              "      <th>Trans</th>\n",
              "      <th>Sexuality</th>\n",
              "      <th>Ethnicity</th>\n",
              "      <th>Dependents</th>\n",
              "      <th>SurveyLength</th>\n",
              "      <th>SurveyEase</th>\n",
              "    </tr>\n",
              "  </thead>\n",
              "  <tbody>\n",
              "    <tr>\n",
              "      <th>0</th>\n",
              "      <td>1</td>\n",
              "      <td>I am a student who is learning to code</td>\n",
              "      <td>Yes</td>\n",
              "      <td>Never</td>\n",
              "      <td>The quality of OSS and closed source software ...</td>\n",
              "      <td>Not employed, and not looking for work</td>\n",
              "      <td>United Kingdom</td>\n",
              "      <td>No</td>\n",
              "      <td>Primary/elementary school</td>\n",
              "      <td>NaN</td>\n",
              "      <td>Taught yourself a new language, framework, or ...</td>\n",
              "      <td>NaN</td>\n",
              "      <td>NaN</td>\n",
              "      <td>4</td>\n",
              "      <td>10</td>\n",
              "      <td>NaN</td>\n",
              "      <td>NaN</td>\n",
              "      <td>NaN</td>\n",
              "      <td>NaN</td>\n",
              "      <td>NaN</td>\n",
              "      <td>NaN</td>\n",
              "      <td>NaN</td>\n",
              "      <td>NaN</td>\n",
              "      <td>NaN</td>\n",
              "      <td>NaN</td>\n",
              "      <td>NaN</td>\n",
              "      <td>NaN</td>\n",
              "      <td>NaN</td>\n",
              "      <td>NaN</td>\n",
              "      <td>NaN</td>\n",
              "      <td>NaN</td>\n",
              "      <td>NaN</td>\n",
              "      <td>NaN</td>\n",
              "      <td>NaN</td>\n",
              "      <td>NaN</td>\n",
              "      <td>NaN</td>\n",
              "      <td>NaN</td>\n",
              "      <td>NaN</td>\n",
              "      <td>NaN</td>\n",
              "      <td>NaN</td>\n",
              "      <td>...</td>\n",
              "      <td>SQLite</td>\n",
              "      <td>MySQL</td>\n",
              "      <td>MacOS;Windows</td>\n",
              "      <td>Android;Arduino;Windows</td>\n",
              "      <td>Django;Flask</td>\n",
              "      <td>Flask;jQuery</td>\n",
              "      <td>Node.js</td>\n",
              "      <td>Node.js</td>\n",
              "      <td>IntelliJ;Notepad++;PyCharm</td>\n",
              "      <td>Windows</td>\n",
              "      <td>I do not use containers</td>\n",
              "      <td>NaN</td>\n",
              "      <td>NaN</td>\n",
              "      <td>Yes</td>\n",
              "      <td>Fortunately, someone else has that title</td>\n",
              "      <td>Yes</td>\n",
              "      <td>Twitter</td>\n",
              "      <td>Online</td>\n",
              "      <td>Username</td>\n",
              "      <td>2017</td>\n",
              "      <td>A few times per month or weekly</td>\n",
              "      <td>Find answers to specific questions;Learn how t...</td>\n",
              "      <td>3-5 times per week</td>\n",
              "      <td>Stack Overflow was much faster</td>\n",
              "      <td>31-60 minutes</td>\n",
              "      <td>No</td>\n",
              "      <td>NaN</td>\n",
              "      <td>No, I didn't know that Stack Overflow had a jo...</td>\n",
              "      <td>No, and I don't know what those are</td>\n",
              "      <td>Neutral</td>\n",
              "      <td>Just as welcome now as I felt last year</td>\n",
              "      <td>Tech articles written by other developers;Indu...</td>\n",
              "      <td>14.0</td>\n",
              "      <td>Man</td>\n",
              "      <td>No</td>\n",
              "      <td>Straight / Heterosexual</td>\n",
              "      <td>NaN</td>\n",
              "      <td>No</td>\n",
              "      <td>Appropriate in length</td>\n",
              "      <td>Neither easy nor difficult</td>\n",
              "    </tr>\n",
              "    <tr>\n",
              "      <th>1</th>\n",
              "      <td>2</td>\n",
              "      <td>I am a student who is learning to code</td>\n",
              "      <td>No</td>\n",
              "      <td>Less than once per year</td>\n",
              "      <td>The quality of OSS and closed source software ...</td>\n",
              "      <td>Not employed, but looking for work</td>\n",
              "      <td>Bosnia and Herzegovina</td>\n",
              "      <td>Yes, full-time</td>\n",
              "      <td>Secondary school (e.g. American high school, G...</td>\n",
              "      <td>NaN</td>\n",
              "      <td>Taken an online course in programming or softw...</td>\n",
              "      <td>NaN</td>\n",
              "      <td>Developer, desktop or enterprise applications;...</td>\n",
              "      <td>NaN</td>\n",
              "      <td>17</td>\n",
              "      <td>NaN</td>\n",
              "      <td>NaN</td>\n",
              "      <td>NaN</td>\n",
              "      <td>NaN</td>\n",
              "      <td>NaN</td>\n",
              "      <td>NaN</td>\n",
              "      <td>I am actively looking for a job</td>\n",
              "      <td>I've never had a job</td>\n",
              "      <td>NaN</td>\n",
              "      <td>NaN</td>\n",
              "      <td>Financial performance or funding status of the...</td>\n",
              "      <td>Something else changed (education, award, medi...</td>\n",
              "      <td>NaN</td>\n",
              "      <td>NaN</td>\n",
              "      <td>NaN</td>\n",
              "      <td>NaN</td>\n",
              "      <td>NaN</td>\n",
              "      <td>NaN</td>\n",
              "      <td>NaN</td>\n",
              "      <td>NaN</td>\n",
              "      <td>NaN</td>\n",
              "      <td>NaN</td>\n",
              "      <td>NaN</td>\n",
              "      <td>NaN</td>\n",
              "      <td>NaN</td>\n",
              "      <td>...</td>\n",
              "      <td>NaN</td>\n",
              "      <td>MySQL</td>\n",
              "      <td>Windows</td>\n",
              "      <td>Windows</td>\n",
              "      <td>Django</td>\n",
              "      <td>Django</td>\n",
              "      <td>NaN</td>\n",
              "      <td>NaN</td>\n",
              "      <td>Atom;PyCharm</td>\n",
              "      <td>Windows</td>\n",
              "      <td>I do not use containers</td>\n",
              "      <td>NaN</td>\n",
              "      <td>Useful across many domains and could change ma...</td>\n",
              "      <td>Yes</td>\n",
              "      <td>Yes</td>\n",
              "      <td>Yes</td>\n",
              "      <td>Instagram</td>\n",
              "      <td>Online</td>\n",
              "      <td>Username</td>\n",
              "      <td>2017</td>\n",
              "      <td>Daily or almost daily</td>\n",
              "      <td>Find answers to specific questions;Learn how t...</td>\n",
              "      <td>3-5 times per week</td>\n",
              "      <td>Stack Overflow was much faster</td>\n",
              "      <td>11-30 minutes</td>\n",
              "      <td>Yes</td>\n",
              "      <td>A few times per month or weekly</td>\n",
              "      <td>No, I knew that Stack Overflow had a job board...</td>\n",
              "      <td>No, and I don't know what those are</td>\n",
              "      <td>Yes, somewhat</td>\n",
              "      <td>Just as welcome now as I felt last year</td>\n",
              "      <td>Tech articles written by other developers;Indu...</td>\n",
              "      <td>19.0</td>\n",
              "      <td>Man</td>\n",
              "      <td>No</td>\n",
              "      <td>Straight / Heterosexual</td>\n",
              "      <td>NaN</td>\n",
              "      <td>No</td>\n",
              "      <td>Appropriate in length</td>\n",
              "      <td>Neither easy nor difficult</td>\n",
              "    </tr>\n",
              "    <tr>\n",
              "      <th>2</th>\n",
              "      <td>3</td>\n",
              "      <td>I am not primarily a developer, but I write co...</td>\n",
              "      <td>Yes</td>\n",
              "      <td>Never</td>\n",
              "      <td>The quality of OSS and closed source software ...</td>\n",
              "      <td>Employed full-time</td>\n",
              "      <td>Thailand</td>\n",
              "      <td>No</td>\n",
              "      <td>Bachelor’s degree (BA, BS, B.Eng., etc.)</td>\n",
              "      <td>Web development or web design</td>\n",
              "      <td>Taught yourself a new language, framework, or ...</td>\n",
              "      <td>100 to 499 employees</td>\n",
              "      <td>Designer;Developer, back-end;Developer, front-...</td>\n",
              "      <td>3</td>\n",
              "      <td>22</td>\n",
              "      <td>1</td>\n",
              "      <td>Slightly satisfied</td>\n",
              "      <td>Slightly satisfied</td>\n",
              "      <td>Not at all confident</td>\n",
              "      <td>Not sure</td>\n",
              "      <td>Not sure</td>\n",
              "      <td>I’m not actively looking, but I am open to new...</td>\n",
              "      <td>1-2 years ago</td>\n",
              "      <td>Interview with people in peer roles</td>\n",
              "      <td>No</td>\n",
              "      <td>Languages, frameworks, and other technologies ...</td>\n",
              "      <td>I was preparing for a job search</td>\n",
              "      <td>THB</td>\n",
              "      <td>Thai baht</td>\n",
              "      <td>23000.0</td>\n",
              "      <td>Monthly</td>\n",
              "      <td>8820.0</td>\n",
              "      <td>40.0</td>\n",
              "      <td>There's no schedule or spec; I work on what se...</td>\n",
              "      <td>Distracting work environment;Inadequate access...</td>\n",
              "      <td>Less than once per month / Never</td>\n",
              "      <td>Home</td>\n",
              "      <td>Average</td>\n",
              "      <td>No</td>\n",
              "      <td>NaN</td>\n",
              "      <td>...</td>\n",
              "      <td>PostgreSQL</td>\n",
              "      <td>PostgreSQL</td>\n",
              "      <td>NaN</td>\n",
              "      <td>NaN</td>\n",
              "      <td>NaN</td>\n",
              "      <td>Other(s):</td>\n",
              "      <td>NaN</td>\n",
              "      <td>NaN</td>\n",
              "      <td>Vim;Visual Studio Code</td>\n",
              "      <td>Linux-based</td>\n",
              "      <td>I do not use containers</td>\n",
              "      <td>NaN</td>\n",
              "      <td>NaN</td>\n",
              "      <td>Yes</td>\n",
              "      <td>Yes</td>\n",
              "      <td>Yes</td>\n",
              "      <td>Reddit</td>\n",
              "      <td>In real life (in person)</td>\n",
              "      <td>Username</td>\n",
              "      <td>2011</td>\n",
              "      <td>A few times per week</td>\n",
              "      <td>Find answers to specific questions;Learn how t...</td>\n",
              "      <td>6-10 times per week</td>\n",
              "      <td>They were about the same</td>\n",
              "      <td>NaN</td>\n",
              "      <td>Yes</td>\n",
              "      <td>Less than once per month or monthly</td>\n",
              "      <td>Yes</td>\n",
              "      <td>No, I've heard of them, but I am not part of a...</td>\n",
              "      <td>Neutral</td>\n",
              "      <td>Just as welcome now as I felt last year</td>\n",
              "      <td>Tech meetups or events in your area;Courses on...</td>\n",
              "      <td>28.0</td>\n",
              "      <td>Man</td>\n",
              "      <td>No</td>\n",
              "      <td>Straight / Heterosexual</td>\n",
              "      <td>NaN</td>\n",
              "      <td>Yes</td>\n",
              "      <td>Appropriate in length</td>\n",
              "      <td>Neither easy nor difficult</td>\n",
              "    </tr>\n",
              "    <tr>\n",
              "      <th>3</th>\n",
              "      <td>4</td>\n",
              "      <td>I am a developer by profession</td>\n",
              "      <td>No</td>\n",
              "      <td>Never</td>\n",
              "      <td>The quality of OSS and closed source software ...</td>\n",
              "      <td>Employed full-time</td>\n",
              "      <td>United States</td>\n",
              "      <td>No</td>\n",
              "      <td>Bachelor’s degree (BA, BS, B.Eng., etc.)</td>\n",
              "      <td>Computer science, computer engineering, or sof...</td>\n",
              "      <td>Taken an online course in programming or softw...</td>\n",
              "      <td>100 to 499 employees</td>\n",
              "      <td>Developer, full-stack</td>\n",
              "      <td>3</td>\n",
              "      <td>16</td>\n",
              "      <td>Less than 1 year</td>\n",
              "      <td>Very satisfied</td>\n",
              "      <td>Slightly satisfied</td>\n",
              "      <td>Very confident</td>\n",
              "      <td>No</td>\n",
              "      <td>Not sure</td>\n",
              "      <td>I am not interested in new job opportunities</td>\n",
              "      <td>Less than a year ago</td>\n",
              "      <td>Write code by hand (e.g., on a whiteboard);Int...</td>\n",
              "      <td>No</td>\n",
              "      <td>Languages, frameworks, and other technologies ...</td>\n",
              "      <td>I was preparing for a job search</td>\n",
              "      <td>USD</td>\n",
              "      <td>United States dollar</td>\n",
              "      <td>61000.0</td>\n",
              "      <td>Yearly</td>\n",
              "      <td>61000.0</td>\n",
              "      <td>80.0</td>\n",
              "      <td>There's no schedule or spec; I work on what se...</td>\n",
              "      <td>NaN</td>\n",
              "      <td>Less than once per month / Never</td>\n",
              "      <td>Home</td>\n",
              "      <td>A little below average</td>\n",
              "      <td>No</td>\n",
              "      <td>NaN</td>\n",
              "      <td>...</td>\n",
              "      <td>MySQL;SQLite</td>\n",
              "      <td>MySQL;SQLite</td>\n",
              "      <td>Linux;Windows</td>\n",
              "      <td>Linux;Windows</td>\n",
              "      <td>NaN</td>\n",
              "      <td>NaN</td>\n",
              "      <td>.NET</td>\n",
              "      <td>.NET</td>\n",
              "      <td>Eclipse;Vim;Visual Studio;Visual Studio Code</td>\n",
              "      <td>Windows</td>\n",
              "      <td>I do not use containers</td>\n",
              "      <td>Not at all</td>\n",
              "      <td>Useful for decentralized currency (i.e., Bitcoin)</td>\n",
              "      <td>Yes</td>\n",
              "      <td>SIGH</td>\n",
              "      <td>Yes</td>\n",
              "      <td>Reddit</td>\n",
              "      <td>In real life (in person)</td>\n",
              "      <td>Username</td>\n",
              "      <td>2014</td>\n",
              "      <td>Daily or almost daily</td>\n",
              "      <td>Find answers to specific questions;Pass the ti...</td>\n",
              "      <td>1-2 times per week</td>\n",
              "      <td>Stack Overflow was much faster</td>\n",
              "      <td>31-60 minutes</td>\n",
              "      <td>Yes</td>\n",
              "      <td>Less than once per month or monthly</td>\n",
              "      <td>Yes</td>\n",
              "      <td>No, and I don't know what those are</td>\n",
              "      <td>No, not really</td>\n",
              "      <td>Just as welcome now as I felt last year</td>\n",
              "      <td>Tech articles written by other developers;Indu...</td>\n",
              "      <td>22.0</td>\n",
              "      <td>Man</td>\n",
              "      <td>No</td>\n",
              "      <td>Straight / Heterosexual</td>\n",
              "      <td>White or of European descent</td>\n",
              "      <td>No</td>\n",
              "      <td>Appropriate in length</td>\n",
              "      <td>Easy</td>\n",
              "    </tr>\n",
              "    <tr>\n",
              "      <th>4</th>\n",
              "      <td>5</td>\n",
              "      <td>I am a developer by profession</td>\n",
              "      <td>Yes</td>\n",
              "      <td>Once a month or more often</td>\n",
              "      <td>OSS is, on average, of HIGHER quality than pro...</td>\n",
              "      <td>Employed full-time</td>\n",
              "      <td>Ukraine</td>\n",
              "      <td>No</td>\n",
              "      <td>Bachelor’s degree (BA, BS, B.Eng., etc.)</td>\n",
              "      <td>Computer science, computer engineering, or sof...</td>\n",
              "      <td>Taken an online course in programming or softw...</td>\n",
              "      <td>10,000 or more employees</td>\n",
              "      <td>Academic researcher;Developer, desktop or ente...</td>\n",
              "      <td>16</td>\n",
              "      <td>14</td>\n",
              "      <td>9</td>\n",
              "      <td>Very dissatisfied</td>\n",
              "      <td>Slightly dissatisfied</td>\n",
              "      <td>Somewhat confident</td>\n",
              "      <td>Yes</td>\n",
              "      <td>No</td>\n",
              "      <td>I am not interested in new job opportunities</td>\n",
              "      <td>Less than a year ago</td>\n",
              "      <td>Write any code;Write code by hand (e.g., on a ...</td>\n",
              "      <td>No</td>\n",
              "      <td>Industry that I'd be working in;Languages, fra...</td>\n",
              "      <td>I was preparing for a job search</td>\n",
              "      <td>UAH</td>\n",
              "      <td>Ukrainian hryvnia</td>\n",
              "      <td>NaN</td>\n",
              "      <td>NaN</td>\n",
              "      <td>NaN</td>\n",
              "      <td>55.0</td>\n",
              "      <td>There is a schedule and/or spec (made by me or...</td>\n",
              "      <td>Being tasked with non-development work;Inadequ...</td>\n",
              "      <td>A few days each month</td>\n",
              "      <td>Office</td>\n",
              "      <td>A little above average</td>\n",
              "      <td>Yes, because I see value in code review</td>\n",
              "      <td>NaN</td>\n",
              "      <td>...</td>\n",
              "      <td>Couchbase;MongoDB;MySQL;Oracle;PostgreSQL;SQLite</td>\n",
              "      <td>Couchbase;Firebase;MongoDB;MySQL;Oracle;Postgr...</td>\n",
              "      <td>Android;Linux;MacOS;Slack;Windows</td>\n",
              "      <td>Android;Docker;Kubernetes;Linux;Slack</td>\n",
              "      <td>Django;Express;Flask;jQuery;React.js;Spring</td>\n",
              "      <td>Flask;jQuery;React.js;Spring</td>\n",
              "      <td>Cordova;Node.js</td>\n",
              "      <td>Apache Spark;Hadoop;Node.js;React Native</td>\n",
              "      <td>IntelliJ;Notepad++;Vim</td>\n",
              "      <td>Linux-based</td>\n",
              "      <td>Outside of work, for personal projects</td>\n",
              "      <td>Not at all</td>\n",
              "      <td>NaN</td>\n",
              "      <td>Yes</td>\n",
              "      <td>Also Yes</td>\n",
              "      <td>Yes</td>\n",
              "      <td>Facebook</td>\n",
              "      <td>In real life (in person)</td>\n",
              "      <td>Username</td>\n",
              "      <td>I don't remember</td>\n",
              "      <td>Multiple times per day</td>\n",
              "      <td>Find answers to specific questions</td>\n",
              "      <td>More than 10 times per week</td>\n",
              "      <td>Stack Overflow was much faster</td>\n",
              "      <td>NaN</td>\n",
              "      <td>Yes</td>\n",
              "      <td>A few times per month or weekly</td>\n",
              "      <td>No, I knew that Stack Overflow had a job board...</td>\n",
              "      <td>No, I've heard of them, but I am not part of a...</td>\n",
              "      <td>Yes, definitely</td>\n",
              "      <td>Just as welcome now as I felt last year</td>\n",
              "      <td>Tech meetups or events in your area;Courses on...</td>\n",
              "      <td>30.0</td>\n",
              "      <td>Man</td>\n",
              "      <td>No</td>\n",
              "      <td>Straight / Heterosexual</td>\n",
              "      <td>White or of European descent;Multiracial</td>\n",
              "      <td>No</td>\n",
              "      <td>Appropriate in length</td>\n",
              "      <td>Easy</td>\n",
              "    </tr>\n",
              "  </tbody>\n",
              "</table>\n",
              "<p>5 rows × 85 columns</p>\n",
              "</div>"
            ],
            "text/plain": [
              "   Respondent  ...                  SurveyEase\n",
              "0           1  ...  Neither easy nor difficult\n",
              "1           2  ...  Neither easy nor difficult\n",
              "2           3  ...  Neither easy nor difficult\n",
              "3           4  ...                        Easy\n",
              "4           5  ...                        Easy\n",
              "\n",
              "[5 rows x 85 columns]"
            ]
          },
          "metadata": {
            "tags": []
          },
          "execution_count": 3
        }
      ]
    },
    {
      "cell_type": "code",
      "metadata": {
        "id": "llkJOKVSx6OE",
        "colab_type": "code",
        "outputId": "9fd98f28-3aad-4a0a-f4fa-4e426fcd7548",
        "colab": {
          "base_uri": "https://localhost:8080/",
          "height": 34
        }
      },
      "source": [
        "data.shape"
      ],
      "execution_count": 4,
      "outputs": [
        {
          "output_type": "execute_result",
          "data": {
            "text/plain": [
              "(88883, 85)"
            ]
          },
          "metadata": {
            "tags": []
          },
          "execution_count": 4
        }
      ]
    },
    {
      "cell_type": "code",
      "metadata": {
        "id": "6CfNL0Aig2qM",
        "colab_type": "code",
        "outputId": "498b74b7-41c8-498b-d8e6-76b505360195",
        "colab": {
          "base_uri": "https://localhost:8080/",
          "height": 101
        }
      },
      "source": [
        "data.info(verbose=False)"
      ],
      "execution_count": 5,
      "outputs": [
        {
          "output_type": "stream",
          "text": [
            "<class 'pandas.core.frame.DataFrame'>\n",
            "RangeIndex: 88883 entries, 0 to 88882\n",
            "Columns: 85 entries, Respondent to SurveyEase\n",
            "dtypes: float64(5), int64(1), object(79)\n",
            "memory usage: 57.6+ MB\n"
          ],
          "name": "stdout"
        }
      ]
    },
    {
      "cell_type": "code",
      "metadata": {
        "id": "fddtUDmejKzL",
        "colab_type": "code",
        "outputId": "13117010-f98c-43ec-fc60-4ed7c570ba37",
        "colab": {
          "base_uri": "https://localhost:8080/",
          "height": 218
        }
      },
      "source": [
        "data_null_coloumns = data.columns[data.isnull().any()]\n",
        "data[data_null_coloumns].isnull().sum() "
      ],
      "execution_count": 6,
      "outputs": [
        {
          "output_type": "execute_result",
          "data": {
            "text/plain": [
              "MainBranch        552\n",
              "OpenSource       2041\n",
              "Employment       1702\n",
              "Country           132\n",
              "Student          1869\n",
              "                ...  \n",
              "Sexuality       12736\n",
              "Ethnicity       12215\n",
              "Dependents       5824\n",
              "SurveyLength     1899\n",
              "SurveyEase       1802\n",
              "Length: 82, dtype: int64"
            ]
          },
          "metadata": {
            "tags": []
          },
          "execution_count": 6
        }
      ]
    },
    {
      "cell_type": "code",
      "metadata": {
        "id": "NK5NlKgemo4D",
        "colab_type": "code",
        "outputId": "b6572380-58f7-4333-ec6d-b924ab8a2bfb",
        "colab": {
          "base_uri": "https://localhost:8080/",
          "height": 1000
        }
      },
      "source": [
        "list(data.columns) "
      ],
      "execution_count": 7,
      "outputs": [
        {
          "output_type": "execute_result",
          "data": {
            "text/plain": [
              "['Respondent',\n",
              " 'MainBranch',\n",
              " 'Hobbyist',\n",
              " 'OpenSourcer',\n",
              " 'OpenSource',\n",
              " 'Employment',\n",
              " 'Country',\n",
              " 'Student',\n",
              " 'EdLevel',\n",
              " 'UndergradMajor',\n",
              " 'EduOther',\n",
              " 'OrgSize',\n",
              " 'DevType',\n",
              " 'YearsCode',\n",
              " 'Age1stCode',\n",
              " 'YearsCodePro',\n",
              " 'CareerSat',\n",
              " 'JobSat',\n",
              " 'MgrIdiot',\n",
              " 'MgrMoney',\n",
              " 'MgrWant',\n",
              " 'JobSeek',\n",
              " 'LastHireDate',\n",
              " 'LastInt',\n",
              " 'FizzBuzz',\n",
              " 'JobFactors',\n",
              " 'ResumeUpdate',\n",
              " 'CurrencySymbol',\n",
              " 'CurrencyDesc',\n",
              " 'CompTotal',\n",
              " 'CompFreq',\n",
              " 'ConvertedComp',\n",
              " 'WorkWeekHrs',\n",
              " 'WorkPlan',\n",
              " 'WorkChallenge',\n",
              " 'WorkRemote',\n",
              " 'WorkLoc',\n",
              " 'ImpSyn',\n",
              " 'CodeRev',\n",
              " 'CodeRevHrs',\n",
              " 'UnitTests',\n",
              " 'PurchaseHow',\n",
              " 'PurchaseWhat',\n",
              " 'LanguageWorkedWith',\n",
              " 'LanguageDesireNextYear',\n",
              " 'DatabaseWorkedWith',\n",
              " 'DatabaseDesireNextYear',\n",
              " 'PlatformWorkedWith',\n",
              " 'PlatformDesireNextYear',\n",
              " 'WebFrameWorkedWith',\n",
              " 'WebFrameDesireNextYear',\n",
              " 'MiscTechWorkedWith',\n",
              " 'MiscTechDesireNextYear',\n",
              " 'DevEnviron',\n",
              " 'OpSys',\n",
              " 'Containers',\n",
              " 'BlockchainOrg',\n",
              " 'BlockchainIs',\n",
              " 'BetterLife',\n",
              " 'ITperson',\n",
              " 'OffOn',\n",
              " 'SocialMedia',\n",
              " 'Extraversion',\n",
              " 'ScreenName',\n",
              " 'SOVisit1st',\n",
              " 'SOVisitFreq',\n",
              " 'SOVisitTo',\n",
              " 'SOFindAnswer',\n",
              " 'SOTimeSaved',\n",
              " 'SOHowMuchTime',\n",
              " 'SOAccount',\n",
              " 'SOPartFreq',\n",
              " 'SOJobs',\n",
              " 'EntTeams',\n",
              " 'SOComm',\n",
              " 'WelcomeChange',\n",
              " 'SONewContent',\n",
              " 'Age',\n",
              " 'Gender',\n",
              " 'Trans',\n",
              " 'Sexuality',\n",
              " 'Ethnicity',\n",
              " 'Dependents',\n",
              " 'SurveyLength',\n",
              " 'SurveyEase']"
            ]
          },
          "metadata": {
            "tags": []
          },
          "execution_count": 7
        }
      ]
    },
    {
      "cell_type": "code",
      "metadata": {
        "id": "RKm_ccB7z2LZ",
        "colab_type": "code",
        "colab": {}
      },
      "source": [
        "#Finding data from Bangladesh \n",
        "BD_data = data[data['Country'] == 'Bangladesh']"
      ],
      "execution_count": 0,
      "outputs": []
    },
    {
      "cell_type": "code",
      "metadata": {
        "id": "jA6-ORSJ1R-R",
        "colab_type": "code",
        "outputId": "378f5bfc-a922-49c6-fb86-8a5f2334a477",
        "colab": {
          "base_uri": "https://localhost:8080/",
          "height": 34
        }
      },
      "source": [
        "BD_data.shape"
      ],
      "execution_count": 9,
      "outputs": [
        {
          "output_type": "execute_result",
          "data": {
            "text/plain": [
              "(605, 85)"
            ]
          },
          "metadata": {
            "tags": []
          },
          "execution_count": 9
        }
      ]
    },
    {
      "cell_type": "markdown",
      "metadata": {
        "id": "7xtpEs5OSzFm",
        "colab_type": "text"
      },
      "source": [
        "In 2019 Stack Overflow Survey, 605 developers put their insights into the IT industry of Bangladesh. "
      ]
    },
    {
      "cell_type": "code",
      "metadata": {
        "id": "ZL3_WvD6H3BW",
        "colab_type": "code",
        "outputId": "9b17b314-c600-49a1-ac5c-873daa7e15f0",
        "colab": {
          "base_uri": "https://localhost:8080/",
          "height": 748
        }
      },
      "source": [
        "BD_data.head()"
      ],
      "execution_count": 10,
      "outputs": [
        {
          "output_type": "execute_result",
          "data": {
            "text/html": [
              "<div>\n",
              "<style scoped>\n",
              "    .dataframe tbody tr th:only-of-type {\n",
              "        vertical-align: middle;\n",
              "    }\n",
              "\n",
              "    .dataframe tbody tr th {\n",
              "        vertical-align: top;\n",
              "    }\n",
              "\n",
              "    .dataframe thead th {\n",
              "        text-align: right;\n",
              "    }\n",
              "</style>\n",
              "<table border=\"1\" class=\"dataframe\">\n",
              "  <thead>\n",
              "    <tr style=\"text-align: right;\">\n",
              "      <th></th>\n",
              "      <th>Respondent</th>\n",
              "      <th>MainBranch</th>\n",
              "      <th>Hobbyist</th>\n",
              "      <th>OpenSourcer</th>\n",
              "      <th>OpenSource</th>\n",
              "      <th>Employment</th>\n",
              "      <th>Country</th>\n",
              "      <th>Student</th>\n",
              "      <th>EdLevel</th>\n",
              "      <th>UndergradMajor</th>\n",
              "      <th>EduOther</th>\n",
              "      <th>OrgSize</th>\n",
              "      <th>DevType</th>\n",
              "      <th>YearsCode</th>\n",
              "      <th>Age1stCode</th>\n",
              "      <th>YearsCodePro</th>\n",
              "      <th>CareerSat</th>\n",
              "      <th>JobSat</th>\n",
              "      <th>MgrIdiot</th>\n",
              "      <th>MgrMoney</th>\n",
              "      <th>MgrWant</th>\n",
              "      <th>JobSeek</th>\n",
              "      <th>LastHireDate</th>\n",
              "      <th>LastInt</th>\n",
              "      <th>FizzBuzz</th>\n",
              "      <th>JobFactors</th>\n",
              "      <th>ResumeUpdate</th>\n",
              "      <th>CurrencySymbol</th>\n",
              "      <th>CurrencyDesc</th>\n",
              "      <th>CompTotal</th>\n",
              "      <th>CompFreq</th>\n",
              "      <th>ConvertedComp</th>\n",
              "      <th>WorkWeekHrs</th>\n",
              "      <th>WorkPlan</th>\n",
              "      <th>WorkChallenge</th>\n",
              "      <th>WorkRemote</th>\n",
              "      <th>WorkLoc</th>\n",
              "      <th>ImpSyn</th>\n",
              "      <th>CodeRev</th>\n",
              "      <th>CodeRevHrs</th>\n",
              "      <th>...</th>\n",
              "      <th>DatabaseWorkedWith</th>\n",
              "      <th>DatabaseDesireNextYear</th>\n",
              "      <th>PlatformWorkedWith</th>\n",
              "      <th>PlatformDesireNextYear</th>\n",
              "      <th>WebFrameWorkedWith</th>\n",
              "      <th>WebFrameDesireNextYear</th>\n",
              "      <th>MiscTechWorkedWith</th>\n",
              "      <th>MiscTechDesireNextYear</th>\n",
              "      <th>DevEnviron</th>\n",
              "      <th>OpSys</th>\n",
              "      <th>Containers</th>\n",
              "      <th>BlockchainOrg</th>\n",
              "      <th>BlockchainIs</th>\n",
              "      <th>BetterLife</th>\n",
              "      <th>ITperson</th>\n",
              "      <th>OffOn</th>\n",
              "      <th>SocialMedia</th>\n",
              "      <th>Extraversion</th>\n",
              "      <th>ScreenName</th>\n",
              "      <th>SOVisit1st</th>\n",
              "      <th>SOVisitFreq</th>\n",
              "      <th>SOVisitTo</th>\n",
              "      <th>SOFindAnswer</th>\n",
              "      <th>SOTimeSaved</th>\n",
              "      <th>SOHowMuchTime</th>\n",
              "      <th>SOAccount</th>\n",
              "      <th>SOPartFreq</th>\n",
              "      <th>SOJobs</th>\n",
              "      <th>EntTeams</th>\n",
              "      <th>SOComm</th>\n",
              "      <th>WelcomeChange</th>\n",
              "      <th>SONewContent</th>\n",
              "      <th>Age</th>\n",
              "      <th>Gender</th>\n",
              "      <th>Trans</th>\n",
              "      <th>Sexuality</th>\n",
              "      <th>Ethnicity</th>\n",
              "      <th>Dependents</th>\n",
              "      <th>SurveyLength</th>\n",
              "      <th>SurveyEase</th>\n",
              "    </tr>\n",
              "  </thead>\n",
              "  <tbody>\n",
              "    <tr>\n",
              "      <th>41</th>\n",
              "      <td>42</td>\n",
              "      <td>I am a developer by profession</td>\n",
              "      <td>Yes</td>\n",
              "      <td>Less than once a month but more than once per ...</td>\n",
              "      <td>OSS is, on average, of HIGHER quality than pro...</td>\n",
              "      <td>Employed full-time</td>\n",
              "      <td>Bangladesh</td>\n",
              "      <td>No</td>\n",
              "      <td>Secondary school (e.g. American high school, G...</td>\n",
              "      <td>NaN</td>\n",
              "      <td>Taken a part-time in-person course in programm...</td>\n",
              "      <td>Just me - I am a freelancer, sole proprietor, ...</td>\n",
              "      <td>Academic researcher;Data or business analyst;D...</td>\n",
              "      <td>8</td>\n",
              "      <td>15</td>\n",
              "      <td>5</td>\n",
              "      <td>Neither satisfied nor dissatisfied</td>\n",
              "      <td>Slightly satisfied</td>\n",
              "      <td>Very confident</td>\n",
              "      <td>Yes</td>\n",
              "      <td>Yes</td>\n",
              "      <td>I’m not actively looking, but I am open to new...</td>\n",
              "      <td>Less than a year ago</td>\n",
              "      <td>Interview with people in peer roles</td>\n",
              "      <td>No</td>\n",
              "      <td>Office environment or company culture;Remote w...</td>\n",
              "      <td>I was preparing for a job search</td>\n",
              "      <td>USD</td>\n",
              "      <td>United States dollar</td>\n",
              "      <td>NaN</td>\n",
              "      <td>Monthly</td>\n",
              "      <td>NaN</td>\n",
              "      <td>40.0</td>\n",
              "      <td>There is a schedule and/or spec (made by me or...</td>\n",
              "      <td>Being tasked with non-development work;Distrac...</td>\n",
              "      <td>All or almost all the time (I'm full-time remote)</td>\n",
              "      <td>Office</td>\n",
              "      <td>Far above average</td>\n",
              "      <td>Yes, because I see value in code review</td>\n",
              "      <td>10.0</td>\n",
              "      <td>...</td>\n",
              "      <td>MySQL</td>\n",
              "      <td>Firebase;MySQL</td>\n",
              "      <td>WordPress</td>\n",
              "      <td>WordPress</td>\n",
              "      <td>jQuery;Laravel</td>\n",
              "      <td>jQuery;Laravel;React.js</td>\n",
              "      <td>Node.js</td>\n",
              "      <td>Node.js</td>\n",
              "      <td>Visual Studio Code</td>\n",
              "      <td>Windows</td>\n",
              "      <td>Development;Testing</td>\n",
              "      <td>Accepting Bitcoin or other coins and tokens as...</td>\n",
              "      <td>Useful for decentralized currency (i.e., Bitcoin)</td>\n",
              "      <td>No</td>\n",
              "      <td>Yes</td>\n",
              "      <td>Yes</td>\n",
              "      <td>Facebook</td>\n",
              "      <td>Online</td>\n",
              "      <td>Screen Name</td>\n",
              "      <td>2008</td>\n",
              "      <td>Daily or almost daily</td>\n",
              "      <td>Find answers to specific questions;Meet other ...</td>\n",
              "      <td>More than 10 times per week</td>\n",
              "      <td>Stack Overflow was much faster</td>\n",
              "      <td>11-30 minutes</td>\n",
              "      <td>Yes</td>\n",
              "      <td>Daily or almost daily</td>\n",
              "      <td>Yes</td>\n",
              "      <td>No, and I don't know what those are</td>\n",
              "      <td>Yes, somewhat</td>\n",
              "      <td>Somewhat more welcome now than last year</td>\n",
              "      <td>Tech articles written by other developers;Tech...</td>\n",
              "      <td>30.0</td>\n",
              "      <td>Man</td>\n",
              "      <td>No</td>\n",
              "      <td>Straight / Heterosexual</td>\n",
              "      <td>Middle Eastern</td>\n",
              "      <td>NaN</td>\n",
              "      <td>Appropriate in length</td>\n",
              "      <td>Easy</td>\n",
              "    </tr>\n",
              "    <tr>\n",
              "      <th>169</th>\n",
              "      <td>171</td>\n",
              "      <td>I am a student who is learning to code</td>\n",
              "      <td>Yes</td>\n",
              "      <td>Less than once per year</td>\n",
              "      <td>OSS is, on average, of HIGHER quality than pro...</td>\n",
              "      <td>Not employed, but looking for work</td>\n",
              "      <td>Bangladesh</td>\n",
              "      <td>Yes, full-time</td>\n",
              "      <td>Secondary school (e.g. American high school, G...</td>\n",
              "      <td>NaN</td>\n",
              "      <td>Participated in online coding competitions (e....</td>\n",
              "      <td>NaN</td>\n",
              "      <td>Academic researcher;Educator;Student</td>\n",
              "      <td>4</td>\n",
              "      <td>19</td>\n",
              "      <td>NaN</td>\n",
              "      <td>NaN</td>\n",
              "      <td>NaN</td>\n",
              "      <td>NaN</td>\n",
              "      <td>NaN</td>\n",
              "      <td>NaN</td>\n",
              "      <td>I am actively looking for a job</td>\n",
              "      <td>I've never had a job</td>\n",
              "      <td>NaN</td>\n",
              "      <td>NaN</td>\n",
              "      <td>Specific department or team I'd be working on;...</td>\n",
              "      <td>I heard about a job opportunity (from a recrui...</td>\n",
              "      <td>NaN</td>\n",
              "      <td>NaN</td>\n",
              "      <td>NaN</td>\n",
              "      <td>NaN</td>\n",
              "      <td>NaN</td>\n",
              "      <td>NaN</td>\n",
              "      <td>NaN</td>\n",
              "      <td>NaN</td>\n",
              "      <td>NaN</td>\n",
              "      <td>NaN</td>\n",
              "      <td>NaN</td>\n",
              "      <td>NaN</td>\n",
              "      <td>NaN</td>\n",
              "      <td>...</td>\n",
              "      <td>MySQL;Oracle</td>\n",
              "      <td>SQLite</td>\n",
              "      <td>Android;iOS</td>\n",
              "      <td>NaN</td>\n",
              "      <td>ASP.NET</td>\n",
              "      <td>jQuery;Laravel;React.js;Vue.js</td>\n",
              "      <td>TensorFlow</td>\n",
              "      <td>.NET;Node.js;Unity 3D</td>\n",
              "      <td>NetBeans;Notepad++</td>\n",
              "      <td>Windows</td>\n",
              "      <td>I do not use containers</td>\n",
              "      <td>NaN</td>\n",
              "      <td>NaN</td>\n",
              "      <td>Yes</td>\n",
              "      <td>Yes</td>\n",
              "      <td>What?</td>\n",
              "      <td>Facebook</td>\n",
              "      <td>In real life (in person)</td>\n",
              "      <td>Login</td>\n",
              "      <td>2018</td>\n",
              "      <td>A few times per week</td>\n",
              "      <td>Find answers to specific questions</td>\n",
              "      <td>More than 10 times per week</td>\n",
              "      <td>Stack Overflow was much faster</td>\n",
              "      <td>0-10 minutes</td>\n",
              "      <td>Yes</td>\n",
              "      <td>A few times per week</td>\n",
              "      <td>Yes</td>\n",
              "      <td>Yes</td>\n",
              "      <td>No, not at all</td>\n",
              "      <td>Not applicable - I did not use Stack Overflow ...</td>\n",
              "      <td>Tech articles written by other developers;Indu...</td>\n",
              "      <td>NaN</td>\n",
              "      <td>NaN</td>\n",
              "      <td>No</td>\n",
              "      <td>NaN</td>\n",
              "      <td>NaN</td>\n",
              "      <td>Yes</td>\n",
              "      <td>Too long</td>\n",
              "      <td>Neither easy nor difficult</td>\n",
              "    </tr>\n",
              "    <tr>\n",
              "      <th>298</th>\n",
              "      <td>300</td>\n",
              "      <td>I am a student who is learning to code</td>\n",
              "      <td>No</td>\n",
              "      <td>Once a month or more often</td>\n",
              "      <td>The quality of OSS and closed source software ...</td>\n",
              "      <td>Not employed, but looking for work</td>\n",
              "      <td>Bangladesh</td>\n",
              "      <td>Yes, full-time</td>\n",
              "      <td>Secondary school (e.g. American high school, G...</td>\n",
              "      <td>NaN</td>\n",
              "      <td>Taken an online course in programming or softw...</td>\n",
              "      <td>NaN</td>\n",
              "      <td>Designer;Developer, back-end;Developer, front-...</td>\n",
              "      <td>2</td>\n",
              "      <td>18</td>\n",
              "      <td>NaN</td>\n",
              "      <td>NaN</td>\n",
              "      <td>NaN</td>\n",
              "      <td>NaN</td>\n",
              "      <td>NaN</td>\n",
              "      <td>NaN</td>\n",
              "      <td>I am actively looking for a job</td>\n",
              "      <td>I've never had a job</td>\n",
              "      <td>NaN</td>\n",
              "      <td>NaN</td>\n",
              "      <td>Specific department or team I'd be working on;...</td>\n",
              "      <td>I was preparing for a job search</td>\n",
              "      <td>NaN</td>\n",
              "      <td>NaN</td>\n",
              "      <td>NaN</td>\n",
              "      <td>NaN</td>\n",
              "      <td>NaN</td>\n",
              "      <td>NaN</td>\n",
              "      <td>NaN</td>\n",
              "      <td>NaN</td>\n",
              "      <td>NaN</td>\n",
              "      <td>NaN</td>\n",
              "      <td>NaN</td>\n",
              "      <td>NaN</td>\n",
              "      <td>NaN</td>\n",
              "      <td>...</td>\n",
              "      <td>Microsoft SQL Server;MySQL;SQLite</td>\n",
              "      <td>MySQL;Oracle;PostgreSQL;SQLite</td>\n",
              "      <td>Android;Linux;Windows</td>\n",
              "      <td>Android;AWS;Google Cloud Platform;Heroku;Linux...</td>\n",
              "      <td>jQuery;Spring</td>\n",
              "      <td>Django;jQuery;Spring</td>\n",
              "      <td>Flutter;Node.js</td>\n",
              "      <td>Flutter;Node.js;TensorFlow</td>\n",
              "      <td>Android Studio;IntelliJ;NetBeans;PyCharm;Visua...</td>\n",
              "      <td>Windows</td>\n",
              "      <td>Development</td>\n",
              "      <td>NaN</td>\n",
              "      <td>NaN</td>\n",
              "      <td>Yes</td>\n",
              "      <td>Yes</td>\n",
              "      <td>What?</td>\n",
              "      <td>Facebook</td>\n",
              "      <td>In real life (in person)</td>\n",
              "      <td>Username</td>\n",
              "      <td>2017</td>\n",
              "      <td>Multiple times per day</td>\n",
              "      <td>Find answers to specific questions;Learn how t...</td>\n",
              "      <td>3-5 times per week</td>\n",
              "      <td>Stack Overflow was much faster</td>\n",
              "      <td>11-30 minutes</td>\n",
              "      <td>Yes</td>\n",
              "      <td>I have never participated in Q&amp;A on Stack Over...</td>\n",
              "      <td>No, I knew that Stack Overflow had a job board...</td>\n",
              "      <td>No, and I don't know what those are</td>\n",
              "      <td>Yes, definitely</td>\n",
              "      <td>A lot more welcome now than last year</td>\n",
              "      <td>Tech articles written by other developers</td>\n",
              "      <td>NaN</td>\n",
              "      <td>Man</td>\n",
              "      <td>NaN</td>\n",
              "      <td>Straight / Heterosexual</td>\n",
              "      <td>South Asian</td>\n",
              "      <td>Yes</td>\n",
              "      <td>Appropriate in length</td>\n",
              "      <td>Easy</td>\n",
              "    </tr>\n",
              "    <tr>\n",
              "      <th>322</th>\n",
              "      <td>324</td>\n",
              "      <td>I am a developer by profession</td>\n",
              "      <td>Yes</td>\n",
              "      <td>Never</td>\n",
              "      <td>OSS is, on average, of LOWER quality than prop...</td>\n",
              "      <td>Employed full-time</td>\n",
              "      <td>Bangladesh</td>\n",
              "      <td>No</td>\n",
              "      <td>Master’s degree (MA, MS, M.Eng., MBA, etc.)</td>\n",
              "      <td>Computer science, computer engineering, or sof...</td>\n",
              "      <td>NaN</td>\n",
              "      <td>20 to 99 employees</td>\n",
              "      <td>Developer, back-end;Developer, embedded applic...</td>\n",
              "      <td>15</td>\n",
              "      <td>17</td>\n",
              "      <td>11</td>\n",
              "      <td>Neither satisfied nor dissatisfied</td>\n",
              "      <td>Neither satisfied nor dissatisfied</td>\n",
              "      <td>Somewhat confident</td>\n",
              "      <td>Yes</td>\n",
              "      <td>Yes</td>\n",
              "      <td>I’m not actively looking, but I am open to new...</td>\n",
              "      <td>3-4 years ago</td>\n",
              "      <td>Write code by hand (e.g., on a whiteboard);Sol...</td>\n",
              "      <td>No</td>\n",
              "      <td>Office environment or company culture;Opportun...</td>\n",
              "      <td>I heard about a job opportunity (from a recrui...</td>\n",
              "      <td>USD</td>\n",
              "      <td>United States dollar</td>\n",
              "      <td>2500.0</td>\n",
              "      <td>Monthly</td>\n",
              "      <td>30000.0</td>\n",
              "      <td>45.0</td>\n",
              "      <td>There's no schedule or spec; I work on what se...</td>\n",
              "      <td>Lack of support from management;Not enough peo...</td>\n",
              "      <td>About half the time</td>\n",
              "      <td>Office</td>\n",
              "      <td>A little above average</td>\n",
              "      <td>Yes, because I see value in code review</td>\n",
              "      <td>5.0</td>\n",
              "      <td>...</td>\n",
              "      <td>Microsoft SQL Server;Oracle</td>\n",
              "      <td>Microsoft SQL Server;Oracle</td>\n",
              "      <td>Android;Windows</td>\n",
              "      <td>Android;Windows</td>\n",
              "      <td>Angular/Angular.js;ASP.NET</td>\n",
              "      <td>Angular/Angular.js;ASP.NET;Express;jQuery;Vue.js</td>\n",
              "      <td>Cordova;.NET;Node.js</td>\n",
              "      <td>Cordova;.NET;.NET Core;Node.js</td>\n",
              "      <td>Sublime Text;Visual Studio;Visual Studio Code</td>\n",
              "      <td>Windows</td>\n",
              "      <td>NaN</td>\n",
              "      <td>Not at all</td>\n",
              "      <td>NaN</td>\n",
              "      <td>No</td>\n",
              "      <td>Yes</td>\n",
              "      <td>Yes</td>\n",
              "      <td>Facebook</td>\n",
              "      <td>In real life (in person)</td>\n",
              "      <td>UserID</td>\n",
              "      <td>2010</td>\n",
              "      <td>Multiple times per day</td>\n",
              "      <td>Find answers to specific questions;Learn how t...</td>\n",
              "      <td>3-5 times per week</td>\n",
              "      <td>Stack Overflow was much faster</td>\n",
              "      <td>0-10 minutes</td>\n",
              "      <td>Yes</td>\n",
              "      <td>A few times per month or weekly</td>\n",
              "      <td>No, I knew that Stack Overflow had a job board...</td>\n",
              "      <td>No, and I don't know what those are</td>\n",
              "      <td>Neutral</td>\n",
              "      <td>Just as welcome now as I felt last year</td>\n",
              "      <td>Tech articles written by other developers;Cour...</td>\n",
              "      <td>34.0</td>\n",
              "      <td>Man</td>\n",
              "      <td>No</td>\n",
              "      <td>Straight / Heterosexual</td>\n",
              "      <td>South Asian</td>\n",
              "      <td>Yes</td>\n",
              "      <td>Appropriate in length</td>\n",
              "      <td>Easy</td>\n",
              "    </tr>\n",
              "    <tr>\n",
              "      <th>687</th>\n",
              "      <td>690</td>\n",
              "      <td>I used to be a developer by profession, but no...</td>\n",
              "      <td>No</td>\n",
              "      <td>Once a month or more often</td>\n",
              "      <td>OSS is, on average, of HIGHER quality than pro...</td>\n",
              "      <td>Retired</td>\n",
              "      <td>Bangladesh</td>\n",
              "      <td>NaN</td>\n",
              "      <td>NaN</td>\n",
              "      <td>I never declared a major</td>\n",
              "      <td>NaN</td>\n",
              "      <td>NaN</td>\n",
              "      <td>NaN</td>\n",
              "      <td>NaN</td>\n",
              "      <td>NaN</td>\n",
              "      <td>NaN</td>\n",
              "      <td>NaN</td>\n",
              "      <td>NaN</td>\n",
              "      <td>NaN</td>\n",
              "      <td>NaN</td>\n",
              "      <td>NaN</td>\n",
              "      <td>NaN</td>\n",
              "      <td>NaN</td>\n",
              "      <td>NaN</td>\n",
              "      <td>NaN</td>\n",
              "      <td>NaN</td>\n",
              "      <td>NaN</td>\n",
              "      <td>NaN</td>\n",
              "      <td>NaN</td>\n",
              "      <td>NaN</td>\n",
              "      <td>NaN</td>\n",
              "      <td>NaN</td>\n",
              "      <td>NaN</td>\n",
              "      <td>NaN</td>\n",
              "      <td>NaN</td>\n",
              "      <td>NaN</td>\n",
              "      <td>NaN</td>\n",
              "      <td>NaN</td>\n",
              "      <td>NaN</td>\n",
              "      <td>NaN</td>\n",
              "      <td>...</td>\n",
              "      <td>NaN</td>\n",
              "      <td>NaN</td>\n",
              "      <td>Android;Other(s):</td>\n",
              "      <td>Android;Other(s):</td>\n",
              "      <td>NaN</td>\n",
              "      <td>NaN</td>\n",
              "      <td>NaN</td>\n",
              "      <td>NaN</td>\n",
              "      <td>NaN</td>\n",
              "      <td>NaN</td>\n",
              "      <td>NaN</td>\n",
              "      <td>NaN</td>\n",
              "      <td>NaN</td>\n",
              "      <td>NaN</td>\n",
              "      <td>NaN</td>\n",
              "      <td>NaN</td>\n",
              "      <td>NaN</td>\n",
              "      <td>NaN</td>\n",
              "      <td>NaN</td>\n",
              "      <td>NaN</td>\n",
              "      <td>NaN</td>\n",
              "      <td>NaN</td>\n",
              "      <td>NaN</td>\n",
              "      <td>NaN</td>\n",
              "      <td>NaN</td>\n",
              "      <td>NaN</td>\n",
              "      <td>NaN</td>\n",
              "      <td>NaN</td>\n",
              "      <td>NaN</td>\n",
              "      <td>NaN</td>\n",
              "      <td>NaN</td>\n",
              "      <td>NaN</td>\n",
              "      <td>NaN</td>\n",
              "      <td>NaN</td>\n",
              "      <td>NaN</td>\n",
              "      <td>NaN</td>\n",
              "      <td>NaN</td>\n",
              "      <td>NaN</td>\n",
              "      <td>NaN</td>\n",
              "      <td>NaN</td>\n",
              "    </tr>\n",
              "  </tbody>\n",
              "</table>\n",
              "<p>5 rows × 85 columns</p>\n",
              "</div>"
            ],
            "text/plain": [
              "     Respondent  ...                  SurveyEase\n",
              "41           42  ...                        Easy\n",
              "169         171  ...  Neither easy nor difficult\n",
              "298         300  ...                        Easy\n",
              "322         324  ...                        Easy\n",
              "687         690  ...                         NaN\n",
              "\n",
              "[5 rows x 85 columns]"
            ]
          },
          "metadata": {
            "tags": []
          },
          "execution_count": 10
        }
      ]
    },
    {
      "cell_type": "code",
      "metadata": {
        "id": "As8Oo_eFJIiH",
        "colab_type": "code",
        "outputId": "db3c532d-ed21-4e7a-b9e7-97a0034e49fc",
        "colab": {
          "base_uri": "https://localhost:8080/",
          "height": 298
        }
      },
      "source": [
        "status_vals = BD_data.MainBranch.value_counts(normalize=False)\n",
        "\n",
        "#create bar chart for the counts\n",
        "(status_vals/BD_data.shape[0]).plot(kind = 'barh')\n",
        "plt.title('MainBranch')"
      ],
      "execution_count": 11,
      "outputs": [
        {
          "output_type": "execute_result",
          "data": {
            "text/plain": [
              "Text(0.5, 1.0, 'MainBranch')"
            ]
          },
          "metadata": {
            "tags": []
          },
          "execution_count": 11
        },
        {
          "output_type": "display_data",
          "data": {
            "image/png": "[encoded data removed]",
            "text/plain": [
              "<Figure size 432x288 with 1 Axes>"
            ]
          },
          "metadata": {
            "tags": [],
            "needs_background": "light"
          }
        }
      ]
    },
    {
      "cell_type": "markdown",
      "metadata": {
        "id": "iRarAu6sXGXi",
        "colab_type": "text"
      },
      "source": [
        "##Employment Status"
      ]
    },
    {
      "cell_type": "code",
      "metadata": {
        "id": "KlKqSMa1JXn4",
        "colab_type": "code",
        "outputId": "841b0d3a-f41d-4d20-b4b9-f26582208f93",
        "colab": {
          "base_uri": "https://localhost:8080/",
          "height": 298
        }
      },
      "source": [
        "status_vals = BD_data.Employment.value_counts()\n",
        "\n",
        "#create bar chart for the counts\n",
        "(status_vals/BD_data.shape[0]).plot(kind = 'barh')\n",
        "plt.title('Employment')"
      ],
      "execution_count": 12,
      "outputs": [
        {
          "output_type": "execute_result",
          "data": {
            "text/plain": [
              "Text(0.5, 1.0, 'Employment')"
            ]
          },
          "metadata": {
            "tags": []
          },
          "execution_count": 12
        },
        {
          "output_type": "display_data",
          "data": {
            "image/png": "[encoded data removed]",
            "text/plain": [
              "<Figure size 432x288 with 1 Axes>"
            ]
          },
          "metadata": {
            "tags": [],
            "needs_background": "light"
          }
        }
      ]
    },
    {
      "cell_type": "code",
      "metadata": {
        "id": "Y_K6JMirXUpC",
        "colab_type": "code",
        "outputId": "76ad0b43-8bca-4129-dca6-858bea861158",
        "colab": {
          "base_uri": "https://localhost:8080/",
          "height": 134
        }
      },
      "source": [
        "BD_data['Employment'].value_counts(normalize=False)"
      ],
      "execution_count": 13,
      "outputs": [
        {
          "output_type": "execute_result",
          "data": {
            "text/plain": [
              "Employed full-time                                      364\n",
              "Not employed, but looking for work                       90\n",
              "Independent contractor, freelancer, or self-employed     74\n",
              "Employed part-time                                       34\n",
              "Not employed, and not looking for work                   22\n",
              "Retired                                                   3\n",
              "Name: Employment, dtype: int64"
            ]
          },
          "metadata": {
            "tags": []
          },
          "execution_count": 13
        }
      ]
    },
    {
      "cell_type": "markdown",
      "metadata": {
        "id": "siEzeo-rXZEG",
        "colab_type": "text"
      },
      "source": [
        "Among the 605 respondant, 364 are working full time and other are either working as a freelancer or looking for their way into the industry"
      ]
    },
    {
      "cell_type": "code",
      "metadata": {
        "id": "3OXXUgwkJxlx",
        "colab_type": "code",
        "outputId": "3f0b9cef-cdc8-4bc3-af95-c34586222019",
        "colab": {
          "base_uri": "https://localhost:8080/",
          "height": 298
        }
      },
      "source": [
        "status_vals = BD_data.EdLevel.value_counts()\n",
        "\n",
        "#create bar chart for the counts\n",
        "(status_vals/BD_data.shape[0]).plot(kind = 'barh')\n",
        "plt.title('Education level')"
      ],
      "execution_count": 14,
      "outputs": [
        {
          "output_type": "execute_result",
          "data": {
            "text/plain": [
              "Text(0.5, 1.0, 'Education level')"
            ]
          },
          "metadata": {
            "tags": []
          },
          "execution_count": 14
        },
        {
          "output_type": "display_data",
          "data": {
            "image/png": "[encoded data removed]",
            "text/plain": [
              "<Figure size 432x288 with 1 Axes>"
            ]
          },
          "metadata": {
            "tags": [],
            "needs_background": "light"
          }
        }
      ]
    },
    {
      "cell_type": "markdown",
      "metadata": {
        "id": "Hxiy36kSRi9d",
        "colab_type": "text"
      },
      "source": [
        "#Top 10 POPULAR LANGUAGES for Work"
      ]
    },
    {
      "cell_type": "code",
      "metadata": {
        "id": "TOLHDwEpJ12c",
        "colab_type": "code",
        "outputId": "acc63379-30ef-4e6f-b480-e282bf2217be",
        "colab": {
          "base_uri": "https://localhost:8080/",
          "height": 298
        }
      },
      "source": [
        "status_vals = BD_data.LanguageWorkedWith.value_counts().head(10)\n",
        "\n",
        "#create bar chart for the counts\n",
        "(status_vals/BD_data.shape[0]).plot(kind = 'barh')\n",
        "plt.title('Language Worked With')"
      ],
      "execution_count": 15,
      "outputs": [
        {
          "output_type": "execute_result",
          "data": {
            "text/plain": [
              "Text(0.5, 1.0, 'Language Worked With')"
            ]
          },
          "metadata": {
            "tags": []
          },
          "execution_count": 15
        },
        {
          "output_type": "display_data",
          "data": {
            "image/png": "[encoded data removed]",
            "text/plain": [
              "<Figure size 432x288 with 1 Axes>"
            ]
          },
          "metadata": {
            "tags": [],
            "needs_background": "light"
          }
        }
      ]
    },
    {
      "cell_type": "markdown",
      "metadata": {
        "id": "ZkX0MuaWVOIQ",
        "colab_type": "text"
      },
      "source": [
        "HTML/CSS/JS/PHP/SQL topped working language this year."
      ]
    },
    {
      "cell_type": "markdown",
      "metadata": {
        "id": "8-TKHKqqR0xA",
        "colab_type": "text"
      },
      "source": [
        "##Top 10 POPULAR LANGUAGES desired to Work In Next Year"
      ]
    },
    {
      "cell_type": "code",
      "metadata": {
        "id": "e6I7qhrIMBGg",
        "colab_type": "code",
        "outputId": "20b5ead8-0ea4-4cf0-fd77-4b97be4dcd63",
        "colab": {
          "base_uri": "https://localhost:8080/",
          "height": 298
        }
      },
      "source": [
        "status_vals = BD_data.LanguageDesireNextYear.value_counts().head(10)\n",
        "\n",
        "#create bar chart for the counts\n",
        "(status_vals/BD_data.shape[0]).plot(kind = 'barh')\n",
        "plt.title('Language Desired Next Year')"
      ],
      "execution_count": 16,
      "outputs": [
        {
          "output_type": "execute_result",
          "data": {
            "text/plain": [
              "Text(0.5, 1.0, 'Language Desired Next Year')"
            ]
          },
          "metadata": {
            "tags": []
          },
          "execution_count": 16
        },
        {
          "output_type": "display_data",
          "data": {
            "image/png": "[encoded data removed]",
            "text/plain": [
              "<Figure size 432x288 with 1 Axes>"
            ]
          },
          "metadata": {
            "tags": [],
            "needs_background": "light"
          }
        }
      ]
    },
    {
      "cell_type": "markdown",
      "metadata": {
        "id": "CWt9ziu7Uzp-",
        "colab_type": "text"
      },
      "source": [
        "Although most developers are working with HTML/CSS/JS/PHP/etc. Python language climbed the top in terms to work with in the next Year"
      ]
    },
    {
      "cell_type": "code",
      "metadata": {
        "id": "ZroBhDY8OfL5",
        "colab_type": "code",
        "outputId": "09ffee4a-a4ce-4e76-b5ce-68ee688d46f7",
        "colab": {
          "base_uri": "https://localhost:8080/",
          "height": 118
        }
      },
      "source": [
        "BD_data['JobSat'].value_counts(normalize=False)"
      ],
      "execution_count": 17,
      "outputs": [
        {
          "output_type": "execute_result",
          "data": {
            "text/plain": [
              "Slightly satisfied                    133\n",
              "Neither satisfied nor dissatisfied     79\n",
              "Slightly dissatisfied                  75\n",
              "Very satisfied                         73\n",
              "Very dissatisfied                      36\n",
              "Name: JobSat, dtype: int64"
            ]
          },
          "metadata": {
            "tags": []
          },
          "execution_count": 17
        }
      ]
    },
    {
      "cell_type": "code",
      "metadata": {
        "id": "Lqptkr0xO2bP",
        "colab_type": "code",
        "outputId": "85891384-2223-4d89-c86f-fd84541aa3af",
        "colab": {
          "base_uri": "https://localhost:8080/",
          "height": 134
        }
      },
      "source": [
        "BD_data['Employment'].value_counts(normalize=False)"
      ],
      "execution_count": 18,
      "outputs": [
        {
          "output_type": "execute_result",
          "data": {
            "text/plain": [
              "Employed full-time                                      364\n",
              "Not employed, but looking for work                       90\n",
              "Independent contractor, freelancer, or self-employed     74\n",
              "Employed part-time                                       34\n",
              "Not employed, and not looking for work                   22\n",
              "Retired                                                   3\n",
              "Name: Employment, dtype: int64"
            ]
          },
          "metadata": {
            "tags": []
          },
          "execution_count": 18
        }
      ]
    },
    {
      "cell_type": "code",
      "metadata": {
        "id": "eDkrjoFDaCus",
        "colab_type": "code",
        "colab": {}
      },
      "source": [
        "developer_data= BD_data.copy()"
      ],
      "execution_count": 0,
      "outputs": []
    },
    {
      "cell_type": "code",
      "metadata": {
        "id": "HNX_06YfZsVA",
        "colab_type": "code",
        "colab": {}
      },
      "source": [
        "# Set the JobSat and OpenSourcerr column into categorical data type so it will be sorted with the right order (ordinal data)\n",
        "developer_data['JobSat'] = pd.Categorical(BD_data['JobSat'], categories=['Very dissatisfied',\n",
        "                                                                                'Slightly dissatisfied',\n",
        "                                                                                'Neither satisfied nor dissatisfied',\n",
        "                                                                                'Slightly satisfied',\n",
        "                                                                                'Very satisfied'], ordered=True)\n",
        "\n",
        "developer_data['Employment'] = pd.Categorical(BD_data['Employment'], categories=['Employed full-time',                                      \n",
        "                                                                                  'Not employed, but looking for work',                      \n",
        "                                                                                  'Independent contractor, freelancer, or self-employed',     \n",
        "                                                                                  'Employed part-time',                                       \n",
        "                                                                                  'Not employed, and not looking for work',                 \n",
        "                                                                                  'Retired'                    \n",
        "                                                                                ], ordered=True)"
      ],
      "execution_count": 0,
      "outputs": []
    },
    {
      "cell_type": "code",
      "metadata": {
        "id": "ANtXeKbdav7r",
        "colab_type": "code",
        "colab": {}
      },
      "source": [
        "# Fill the N/A values in JobSat column with the mode\n",
        "developer_data['JobSat'] = developer_data['JobSat'].fillna(developer_data['JobSat'].mode()[0])\n",
        "# Fill the N/A values in JobSeek column with the mode\n",
        "developer_data['ConvertedComp'] = developer_data['ConvertedComp'].fillna(developer_data['ConvertedComp'].mode()[0])\n"
      ],
      "execution_count": 0,
      "outputs": []
    },
    {
      "cell_type": "code",
      "metadata": {
        "id": "BmR6UbWygsf8",
        "colab_type": "code",
        "colab": {}
      },
      "source": [
        "def JobSat_to_numeric(x):\n",
        "    if x=='Very dissatisfied':\n",
        "        return 1\n",
        "    if x=='Slightly dissatisfied':\n",
        "        return 2\n",
        "    if x=='Neither satisfied nor dissatisfied':\n",
        "        return 3\n",
        "    if x=='Slightly satisfied':\n",
        "        return 4\n",
        "    if x=='Very satisfied':\n",
        "        return 5"
      ],
      "execution_count": 0,
      "outputs": []
    },
    {
      "cell_type": "code",
      "metadata": {
        "id": "kmLncJuXhDMr",
        "colab_type": "code",
        "colab": {}
      },
      "source": [
        "\n",
        "def Employment_to_numeric(x):\n",
        "    if x=='Retired'  :\n",
        "        return 1\n",
        "    if x=='Not employed, and not looking for work':\n",
        "        return 2\n",
        "    if x=='Employed part-time':\n",
        "        return 3\n",
        "    if x=='Independent contractor, freelancer, or self-employed':\n",
        "        return 4\n",
        "    if x=='Not employed, but looking for work':\n",
        "        return 5\n",
        "    if x=='Employed full-time':\n",
        "        return 6"
      ],
      "execution_count": 0,
      "outputs": []
    },
    {
      "cell_type": "code",
      "metadata": {
        "id": "9cbMEmrxhhq0",
        "colab_type": "code",
        "colab": {}
      },
      "source": [
        "#converting to numeric\n",
        "#developer_data['JobSat'] = developer_data['JobSat'].apply(JobSat_to_numeric)\n",
        "developer_data['Employment'] = developer_data['Employment'].apply(Employment_to_numeric)"
      ],
      "execution_count": 0,
      "outputs": []
    },
    {
      "cell_type": "code",
      "metadata": {
        "id": "kinjIs7JmnSZ",
        "colab_type": "code",
        "colab": {}
      },
      "source": [
        "temp_df=developer_data[developer_data['Employment']=='Employed full-time']"
      ],
      "execution_count": 0,
      "outputs": []
    },
    {
      "cell_type": "code",
      "metadata": {
        "id": "TOL7EPhiiLRn",
        "colab_type": "code",
        "colab": {}
      },
      "source": [
        "X=(developer_data['JobSat'].value_counts().index.tolist())\n",
        "y=(developer_data['JobSat'].value_counts().tolist())"
      ],
      "execution_count": 0,
      "outputs": []
    },
    {
      "cell_type": "code",
      "metadata": {
        "id": "I1S3R6V5SlVj",
        "colab_type": "code",
        "outputId": "53e75c2b-4d79-4e52-deff-8d6c45c1bb70",
        "colab": {
          "base_uri": "https://localhost:8080/",
          "height": 513
        }
      },
      "source": [
        "# Visualize the data\n",
        "plt.figure(figsize=(16, 8))\n",
        "sns.barplot(X,y)\n",
        "\n",
        "plt.title('Full time employee Job Sat')\n",
        "plt.ylabel('Number of employees')\n",
        "plt.xlabel('Job satisfaction')\n",
        "plt.show()"
      ],
      "execution_count": 27,
      "outputs": [
        {
          "output_type": "display_data",
          "data": {
            "image/png": "[encoded data removed]",
            "text/plain": [
              "<Figure size 1152x576 with 1 Axes>"
            ]
          },
          "metadata": {
            "tags": [],
            "needs_background": "light"
          }
        }
      ]
    },
    {
      "cell_type": "markdown",
      "metadata": {
        "id": "pp1GTGKLGZZO",
        "colab_type": "text"
      },
      "source": [
        "In Bangladesh , according to survey data, developers are mostly have satisfaction in their job field "
      ]
    },
    {
      "cell_type": "code",
      "metadata": {
        "id": "N4O_ZbAk--hB",
        "colab_type": "code",
        "outputId": "dd000639-32d5-4d11-c0a3-8101f7364770",
        "colab": {
          "base_uri": "https://localhost:8080/",
          "height": 166
        }
      },
      "source": [
        "# Aggregate the data\n",
        "comp_per_category = developer_data.groupby('OpenSourcer', as_index=False)['ConvertedComp'].mean()\n",
        "\n",
        "comp_per_category"
      ],
      "execution_count": 28,
      "outputs": [
        {
          "output_type": "execute_result",
          "data": {
            "text/html": [
              "<div>\n",
              "<style scoped>\n",
              "    .dataframe tbody tr th:only-of-type {\n",
              "        vertical-align: middle;\n",
              "    }\n",
              "\n",
              "    .dataframe tbody tr th {\n",
              "        vertical-align: top;\n",
              "    }\n",
              "\n",
              "    .dataframe thead th {\n",
              "        text-align: right;\n",
              "    }\n",
              "</style>\n",
              "<table border=\"1\" class=\"dataframe\">\n",
              "  <thead>\n",
              "    <tr style=\"text-align: right;\">\n",
              "      <th></th>\n",
              "      <th>OpenSourcer</th>\n",
              "      <th>ConvertedComp</th>\n",
              "    </tr>\n",
              "  </thead>\n",
              "  <tbody>\n",
              "    <tr>\n",
              "      <th>0</th>\n",
              "      <td>Less than once a month but more than once per ...</td>\n",
              "      <td>7801.588710</td>\n",
              "    </tr>\n",
              "    <tr>\n",
              "      <th>1</th>\n",
              "      <td>Less than once per year</td>\n",
              "      <td>11997.350993</td>\n",
              "    </tr>\n",
              "    <tr>\n",
              "      <th>2</th>\n",
              "      <td>Never</td>\n",
              "      <td>7309.741117</td>\n",
              "    </tr>\n",
              "    <tr>\n",
              "      <th>3</th>\n",
              "      <td>Once a month or more often</td>\n",
              "      <td>17798.022556</td>\n",
              "    </tr>\n",
              "  </tbody>\n",
              "</table>\n",
              "</div>"
            ],
            "text/plain": [
              "                                         OpenSourcer  ConvertedComp\n",
              "0  Less than once a month but more than once per ...    7801.588710\n",
              "1                            Less than once per year   11997.350993\n",
              "2                                              Never    7309.741117\n",
              "3                         Once a month or more often   17798.022556"
            ]
          },
          "metadata": {
            "tags": []
          },
          "execution_count": 28
        }
      ]
    },
    {
      "cell_type": "code",
      "metadata": {
        "id": "7TQb8eeAq3bL",
        "colab_type": "code",
        "outputId": "2f65e67d-39b0-4bea-a659-fa7f2162a328",
        "colab": {
          "base_uri": "https://localhost:8080/",
          "height": 513
        }
      },
      "source": [
        "# Visualize the data\n",
        "plt.figure(figsize=(16, 8))\n",
        "sns.barplot( x=developer_data['OpenSourcer'], y=developer_data['ConvertedComp'],ci =None)\n",
        "\n",
        "plt.title('Total Salary and Frequency of Open Source Contribution')\n",
        "plt.ylabel('Total Salary (USD / year)')\n",
        "plt.xlabel('Open Source contribution')\n",
        "plt.show()"
      ],
      "execution_count": 30,
      "outputs": [
        {
          "output_type": "display_data",
          "data": {
            "image/png": "[encoded data removed]",
            "text/plain": [
              "<Figure size 1152x576 with 1 Axes>"
            ]
          },
          "metadata": {
            "tags": [],
            "needs_background": "light"
          }
        }
      ]
    },
    {
      "cell_type": "markdown",
      "metadata": {
        "id": "wSZE4R47G-MQ",
        "colab_type": "text"
      },
      "source": [
        "Here, We can see from the data that the more frequent the developers contribute to open source, the higher their salary. \n",
        "\n",
        "But, It doesnot mean , to get higher salary contribution to OPen Source is a must. It is to be pointed here, one has to have some sort of skills to contribute to open source which make a developer more skilled and better than others."
      ]
    },
    {
      "cell_type": "markdown",
      "metadata": {
        "id": "dbv2vPnRHqAn",
        "colab_type": "text"
      },
      "source": [
        "##Conclusion"
      ]
    },
    {
      "cell_type": "markdown",
      "metadata": {
        "id": "SHJVoV7fH56p",
        "colab_type": "text"
      },
      "source": [
        "In this notebook, I did the analysis about developers of Bangladesh from Stack Overflow Survey Data 2019, and these are the summary of what I have came to conclusion\n",
        "\n",
        "1.   Popular language to work in Bangladesh HTML,CSS,JS,PHP etc.\n",
        "2.   Most developers want to work on Python in future years.\n",
        "3.   Finally, developers who contribute more to the open source has the higher salary.\n",
        "\n"
      ]
    },
    {
      "cell_type": "code",
      "metadata": {
        "id": "HBrdvfKAMTV9",
        "colab_type": "code",
        "colab": {}
      },
      "source": [
        ""
      ],
      "execution_count": 0,
      "outputs": []
    }
  ]
}